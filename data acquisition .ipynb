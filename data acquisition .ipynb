{
 "cells": [
  {
   "cell_type": "code",
   "execution_count": 1,
   "id": "5a038baa",
   "metadata": {},
   "outputs": [],
   "source": [
    "import pandas as pd\n",
    "import numpy as np\n",
    "\n",
    "# Data Visualizations\n",
    "import matplotlib.pyplot as plt\n",
    "import seaborn as sns\n",
    "\n",
    "\n",
    "# Data Acquisition\n",
    "import requests\n",
    "\n",
    "\n",
    "# Needed for Working with Time Series Data\n",
    "from vega_datasets import data"
   ]
  },
  {
   "cell_type": "code",
   "execution_count": 2,
   "id": "8e6064bb",
   "metadata": {},
   "outputs": [],
   "source": [
    "# Setting up for function\n",
    "endpoint = 'sales'\n",
    "host = 'https://python.zgulde.net/'\n",
    "api = 'api/v1/'\n",
    "\n",
    "url = host + api + endpoint\n",
    "\n",
    "response = requests.get(url)"
   ]
  },
  {
   "cell_type": "code",
   "execution_count": 3,
   "id": "504c6790",
   "metadata": {},
   "outputs": [],
   "source": [
    "# Dry Out Function (Dont Repeat Yourself)\n",
    "# We often build functions once we know that the code we want is \n",
    "# reusable and not bespoke\n",
    "# function that takes in the string \"sales\", \"items\", or \"stores\"\n",
    "\n",
    "def get_all(endpoint):\n",
    "    \"\"\" Read all records on all pages \"\"\"\n",
    "    \n",
    "    if endpoint not in [\"sales\", \"items\", \"stores\"]:\n",
    "        return \"Not available from this API. Check the documentation\"\n",
    "    \n",
    "    host = \"https://python.zgulde.net/\"\n",
    "    api = \"api/v1/\"\n",
    "\n",
    "    url = host + api + endpoint\n",
    "\n",
    "    response = requests.get(url)\n",
    "\n",
    "    if response.ok:\n",
    "        payload = response.json()[\"payload\"]\n",
    "\n",
    "        # endpoint should be \"items\", \"sales\", or \"stores\"\n",
    "        contents = payload[endpoint]\n",
    "\n",
    "        # Make a dataframe of the contents\n",
    "        df = pd.DataFrame(contents)\n",
    "\n",
    "        next_page = payload[\"next_page\"]\n",
    "\n",
    "        while next_page:\n",
    "            # Append the next_page url piece\n",
    "            url = host + next_page\n",
    "            response = requests.get(url)\n",
    "\n",
    "            payload = response.json()[\"payload\"]\n",
    "\n",
    "            next_page = payload[\"next_page\"]    \n",
    "            contents = payload[endpoint]\n",
    "\n",
    "            df = pd.concat([df, pd.DataFrame(contents)])\n",
    "\n",
    "            df = df.reset_index(drop=True)\n",
    "\n",
    "    return df"
   ]
  },
  {
   "cell_type": "markdown",
   "id": "94a2f8e0",
   "metadata": {},
   "source": [
    "# Data Acquisition exercises\n",
    "\n",
    "\n",
    "\n",
    "The end result of this exercise should be a file named acquire.py.\n",
    "\n",
    "1. Using the code from the lesson as a guide and the REST API from https://python.zgulde.net/api/v1/items as we did in the lesson, create a dataframe named items that has all of the data for items.\n"
   ]
  },
  {
   "cell_type": "code",
   "execution_count": 4,
   "id": "39eb39ff",
   "metadata": {},
   "outputs": [],
   "source": [
    "# Long way\n",
    "response = requests.get('https://python.zgulde.net/api/v1/items')\n",
    "data = response.json()\n",
    "items = pd.DataFrame(data['payload']['items'])"
   ]
  },
  {
   "cell_type": "code",
   "execution_count": 5,
   "id": "185894a2",
   "metadata": {},
   "outputs": [
    {
     "data": {
      "text/html": [
       "<div>\n",
       "<style scoped>\n",
       "    .dataframe tbody tr th:only-of-type {\n",
       "        vertical-align: middle;\n",
       "    }\n",
       "\n",
       "    .dataframe tbody tr th {\n",
       "        vertical-align: top;\n",
       "    }\n",
       "\n",
       "    .dataframe thead th {\n",
       "        text-align: right;\n",
       "    }\n",
       "</style>\n",
       "<table border=\"1\" class=\"dataframe\">\n",
       "  <thead>\n",
       "    <tr style=\"text-align: right;\">\n",
       "      <th></th>\n",
       "      <th>item_brand</th>\n",
       "      <th>item_id</th>\n",
       "      <th>item_name</th>\n",
       "      <th>item_price</th>\n",
       "      <th>item_upc12</th>\n",
       "      <th>item_upc14</th>\n",
       "    </tr>\n",
       "  </thead>\n",
       "  <tbody>\n",
       "    <tr>\n",
       "      <th>0</th>\n",
       "      <td>Riceland</td>\n",
       "      <td>1</td>\n",
       "      <td>Riceland American Jazmine Rice</td>\n",
       "      <td>0.84</td>\n",
       "      <td>35200264013</td>\n",
       "      <td>35200264013</td>\n",
       "    </tr>\n",
       "    <tr>\n",
       "      <th>1</th>\n",
       "      <td>Caress</td>\n",
       "      <td>2</td>\n",
       "      <td>Caress Velvet Bliss Ultra Silkening Beauty Bar...</td>\n",
       "      <td>6.44</td>\n",
       "      <td>11111065925</td>\n",
       "      <td>11111065925</td>\n",
       "    </tr>\n",
       "    <tr>\n",
       "      <th>2</th>\n",
       "      <td>Earths Best</td>\n",
       "      <td>3</td>\n",
       "      <td>Earths Best Organic Fruit Yogurt Smoothie Mixe...</td>\n",
       "      <td>2.43</td>\n",
       "      <td>23923330139</td>\n",
       "      <td>23923330139</td>\n",
       "    </tr>\n",
       "    <tr>\n",
       "      <th>3</th>\n",
       "      <td>Boars Head</td>\n",
       "      <td>4</td>\n",
       "      <td>Boars Head Sliced White American Cheese - 120 Ct</td>\n",
       "      <td>3.14</td>\n",
       "      <td>208528800007</td>\n",
       "      <td>208528800007</td>\n",
       "    </tr>\n",
       "    <tr>\n",
       "      <th>4</th>\n",
       "      <td>Back To Nature</td>\n",
       "      <td>5</td>\n",
       "      <td>Back To Nature Gluten Free White Cheddar Rice ...</td>\n",
       "      <td>2.61</td>\n",
       "      <td>759283100036</td>\n",
       "      <td>759283100036</td>\n",
       "    </tr>\n",
       "  </tbody>\n",
       "</table>\n",
       "</div>"
      ],
      "text/plain": [
       "       item_brand  item_id                                          item_name  \\\n",
       "0        Riceland        1                     Riceland American Jazmine Rice   \n",
       "1          Caress        2  Caress Velvet Bliss Ultra Silkening Beauty Bar...   \n",
       "2     Earths Best        3  Earths Best Organic Fruit Yogurt Smoothie Mixe...   \n",
       "3      Boars Head        4   Boars Head Sliced White American Cheese - 120 Ct   \n",
       "4  Back To Nature        5  Back To Nature Gluten Free White Cheddar Rice ...   \n",
       "\n",
       "   item_price    item_upc12    item_upc14  \n",
       "0        0.84   35200264013   35200264013  \n",
       "1        6.44   11111065925   11111065925  \n",
       "2        2.43   23923330139   23923330139  \n",
       "3        3.14  208528800007  208528800007  \n",
       "4        2.61  759283100036  759283100036  "
      ]
     },
     "execution_count": 5,
     "metadata": {},
     "output_type": "execute_result"
    }
   ],
   "source": [
    "# DRY way\n",
    "items = get_all(\"items\")\n",
    "items.head()"
   ]
  },
  {
   "cell_type": "markdown",
   "id": "8fa7b2d0",
   "metadata": {},
   "source": [
    "2. Do the same thing, but for stores (https://python.zgulde.net/api/v1/stores)"
   ]
  },
  {
   "cell_type": "code",
   "execution_count": 6,
   "id": "5aa4725f",
   "metadata": {},
   "outputs": [],
   "source": [
    "# Long way \n",
    "response = requests.get('https://api.data.codeup.com/api/v1/stores')\n",
    "data = response.json()\n",
    "stores = pd.DataFrame(data['payload']['stores'])"
   ]
  },
  {
   "cell_type": "code",
   "execution_count": 7,
   "id": "c17e50d6",
   "metadata": {},
   "outputs": [
    {
     "data": {
      "text/html": [
       "<div>\n",
       "<style scoped>\n",
       "    .dataframe tbody tr th:only-of-type {\n",
       "        vertical-align: middle;\n",
       "    }\n",
       "\n",
       "    .dataframe tbody tr th {\n",
       "        vertical-align: top;\n",
       "    }\n",
       "\n",
       "    .dataframe thead th {\n",
       "        text-align: right;\n",
       "    }\n",
       "</style>\n",
       "<table border=\"1\" class=\"dataframe\">\n",
       "  <thead>\n",
       "    <tr style=\"text-align: right;\">\n",
       "      <th></th>\n",
       "      <th>store_address</th>\n",
       "      <th>store_city</th>\n",
       "      <th>store_id</th>\n",
       "      <th>store_state</th>\n",
       "      <th>store_zipcode</th>\n",
       "    </tr>\n",
       "  </thead>\n",
       "  <tbody>\n",
       "    <tr>\n",
       "      <th>0</th>\n",
       "      <td>12125 Alamo Ranch Pkwy</td>\n",
       "      <td>San Antonio</td>\n",
       "      <td>1</td>\n",
       "      <td>TX</td>\n",
       "      <td>78253</td>\n",
       "    </tr>\n",
       "    <tr>\n",
       "      <th>1</th>\n",
       "      <td>9255 FM 471 West</td>\n",
       "      <td>San Antonio</td>\n",
       "      <td>2</td>\n",
       "      <td>TX</td>\n",
       "      <td>78251</td>\n",
       "    </tr>\n",
       "    <tr>\n",
       "      <th>2</th>\n",
       "      <td>2118 Fredericksburg Rdj</td>\n",
       "      <td>San Antonio</td>\n",
       "      <td>3</td>\n",
       "      <td>TX</td>\n",
       "      <td>78201</td>\n",
       "    </tr>\n",
       "    <tr>\n",
       "      <th>3</th>\n",
       "      <td>516 S Flores St</td>\n",
       "      <td>San Antonio</td>\n",
       "      <td>4</td>\n",
       "      <td>TX</td>\n",
       "      <td>78204</td>\n",
       "    </tr>\n",
       "    <tr>\n",
       "      <th>4</th>\n",
       "      <td>1520 Austin Hwy</td>\n",
       "      <td>San Antonio</td>\n",
       "      <td>5</td>\n",
       "      <td>TX</td>\n",
       "      <td>78218</td>\n",
       "    </tr>\n",
       "  </tbody>\n",
       "</table>\n",
       "</div>"
      ],
      "text/plain": [
       "             store_address   store_city  store_id store_state store_zipcode\n",
       "0   12125 Alamo Ranch Pkwy  San Antonio         1          TX         78253\n",
       "1         9255 FM 471 West  San Antonio         2          TX         78251\n",
       "2  2118 Fredericksburg Rdj  San Antonio         3          TX         78201\n",
       "3          516 S Flores St  San Antonio         4          TX         78204\n",
       "4          1520 Austin Hwy  San Antonio         5          TX         78218"
      ]
     },
     "execution_count": 7,
     "metadata": {},
     "output_type": "execute_result"
    }
   ],
   "source": [
    "stores = get_all('stores')\n",
    "stores.head()"
   ]
  },
  {
   "cell_type": "markdown",
   "id": "291de598",
   "metadata": {},
   "source": [
    "3. Extract the data for sales (https://python.zgulde.net/api/v1/sales). There are a lot of pages of data here, so your code will need to be a little more complex. Your code should continue fetching data from the next page until all of the data is extracted."
   ]
  },
  {
   "cell_type": "code",
   "execution_count": null,
   "id": "c17f03d5",
   "metadata": {},
   "outputs": [],
   "source": [
    "sales = get_all(\"sales\")\n",
    "sales.head()"
   ]
  },
  {
   "cell_type": "markdown",
   "id": "07f23d54",
   "metadata": {},
   "source": [
    "4. Save the data in your files to local csv files so that it will be faster to access in the future.\n"
   ]
  },
  {
   "cell_type": "code",
   "execution_count": null,
   "id": "2108dca9",
   "metadata": {},
   "outputs": [],
   "source": [
    "items.to_csv('items.csv')\n",
    "stores.to_csv('stores.csv')\n",
    "sales.to_csv('sales.csv')"
   ]
  },
  {
   "cell_type": "code",
   "execution_count": null,
   "id": "27fb26e1",
   "metadata": {},
   "outputs": [],
   "source": [
    "sales_and_stores = pd.merge(sales, stores, how = 'inner,\n",
    "                            left_on = 'store',\n",
    "                           right_on = 'store_id')\n",
    "\n",
    "sales_and_stores.head()"
   ]
  },
  {
   "cell_type": "markdown",
   "id": "c0cd8e42",
   "metadata": {},
   "source": [
    "5. Combine the data from your three separate dataframes into one large dataframe."
   ]
  },
  {
   "cell_type": "code",
   "execution_count": null,
   "id": "1dd32212",
   "metadata": {},
   "outputs": [],
   "source": [
    "# Merge everything together\n",
    "everything = pd.merge(sales_and_stores,\n",
    "                      items,\n",
    "                      how=\"inner\",\n",
    "                      left_on=\"item\",\n",
    "                      right_on=\"item_id\")\n",
    "everything.head()"
   ]
  },
  {
   "cell_type": "markdown",
   "id": "e08e5bfd",
   "metadata": {},
   "source": [
    "6. Acquire the Open Power Systems Data for Germany, which has been rapidly expanding its renewable energy production in recent years. The data set includes country-wide totals of electricity consumption, wind power production, and solar power production for 2006-2017. You can get the data here: https://raw.githubusercontent.com/jenfly/opsd/master/opsd_germany_daily.csv"
   ]
  },
  {
   "cell_type": "code",
   "execution_count": null,
   "id": "783a1a55",
   "metadata": {},
   "outputs": [],
   "source": [
    "electricity_consumption = pd.read_csv(\"https://raw.githubusercontent.com/jenfly/opsd/master/opsd_germany_daily.csv\")\n",
    "electricity_consumption.head()"
   ]
  },
  {
   "cell_type": "markdown",
   "id": "d2864b14",
   "metadata": {},
   "source": [
    "7. Make sure all the work that you have done above is reproducible. That is, you should put the code above into separate functions in the acquire.py file and be able to re-run the functions and get the same data."
   ]
  }
 ],
 "metadata": {
  "kernelspec": {
   "display_name": "Python 3 (ipykernel)",
   "language": "python",
   "name": "python3"
  },
  "language_info": {
   "codemirror_mode": {
    "name": "ipython",
    "version": 3
   },
   "file_extension": ".py",
   "mimetype": "text/x-python",
   "name": "python",
   "nbconvert_exporter": "python",
   "pygments_lexer": "ipython3",
   "version": "3.9.7"
  }
 },
 "nbformat": 4,
 "nbformat_minor": 5
}
