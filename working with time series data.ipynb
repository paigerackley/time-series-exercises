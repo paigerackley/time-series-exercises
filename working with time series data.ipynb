{
 "cells": [
  {
   "cell_type": "code",
   "execution_count": 1,
   "id": "5a038baa",
   "metadata": {},
   "outputs": [],
   "source": [
    "import pandas as pd\n",
    "import numpy as np\n",
    "\n",
    "# Data Visualizations\n",
    "import matplotlib.pyplot as plt\n",
    "import seaborn as sns\n",
    "\n",
    "# Needed for Working with Time Series Data\n",
    "import vega_datasets"
   ]
  },
  {
   "cell_type": "markdown",
   "id": "d2864b14",
   "metadata": {},
   "source": [
    "7. Make sure all the work that you have done above is reproducible. That is, you should put the code above into separate functions in the acquire.py file and be able to re-run the functions and get the same data."
   ]
  },
  {
   "cell_type": "markdown",
   "id": "2a8f564e",
   "metadata": {},
   "source": [
    "# Working with Time Series Data exercises"
   ]
  },
  {
   "cell_type": "markdown",
   "id": "63580848",
   "metadata": {},
   "source": [
    "## Exercises Part 1"
   ]
  },
  {
   "cell_type": "code",
   "execution_count": 2,
   "id": "a1172deb",
   "metadata": {},
   "outputs": [
    {
     "data": {
      "text/html": [
       "<div>\n",
       "<style scoped>\n",
       "    .dataframe tbody tr th:only-of-type {\n",
       "        vertical-align: middle;\n",
       "    }\n",
       "\n",
       "    .dataframe tbody tr th {\n",
       "        vertical-align: top;\n",
       "    }\n",
       "\n",
       "    .dataframe thead th {\n",
       "        text-align: right;\n",
       "    }\n",
       "</style>\n",
       "<table border=\"1\" class=\"dataframe\">\n",
       "  <thead>\n",
       "    <tr style=\"text-align: right;\">\n",
       "      <th></th>\n",
       "      <th>temp</th>\n",
       "      <th>date</th>\n",
       "    </tr>\n",
       "  </thead>\n",
       "  <tbody>\n",
       "    <tr>\n",
       "      <th>0</th>\n",
       "      <td>47.8</td>\n",
       "      <td>2010-01-01 00:00:00</td>\n",
       "    </tr>\n",
       "    <tr>\n",
       "      <th>1</th>\n",
       "      <td>47.4</td>\n",
       "      <td>2010-01-01 01:00:00</td>\n",
       "    </tr>\n",
       "    <tr>\n",
       "      <th>2</th>\n",
       "      <td>46.9</td>\n",
       "      <td>2010-01-01 02:00:00</td>\n",
       "    </tr>\n",
       "    <tr>\n",
       "      <th>3</th>\n",
       "      <td>46.5</td>\n",
       "      <td>2010-01-01 03:00:00</td>\n",
       "    </tr>\n",
       "    <tr>\n",
       "      <th>4</th>\n",
       "      <td>46.0</td>\n",
       "      <td>2010-01-01 04:00:00</td>\n",
       "    </tr>\n",
       "    <tr>\n",
       "      <th>...</th>\n",
       "      <td>...</td>\n",
       "      <td>...</td>\n",
       "    </tr>\n",
       "    <tr>\n",
       "      <th>8754</th>\n",
       "      <td>50.4</td>\n",
       "      <td>2010-12-31 19:00:00</td>\n",
       "    </tr>\n",
       "    <tr>\n",
       "      <th>8755</th>\n",
       "      <td>49.9</td>\n",
       "      <td>2010-12-31 20:00:00</td>\n",
       "    </tr>\n",
       "    <tr>\n",
       "      <th>8756</th>\n",
       "      <td>49.4</td>\n",
       "      <td>2010-12-31 21:00:00</td>\n",
       "    </tr>\n",
       "    <tr>\n",
       "      <th>8757</th>\n",
       "      <td>48.8</td>\n",
       "      <td>2010-12-31 22:00:00</td>\n",
       "    </tr>\n",
       "    <tr>\n",
       "      <th>8758</th>\n",
       "      <td>48.3</td>\n",
       "      <td>2010-12-31 23:00:00</td>\n",
       "    </tr>\n",
       "  </tbody>\n",
       "</table>\n",
       "<p>8759 rows × 2 columns</p>\n",
       "</div>"
      ],
      "text/plain": [
       "      temp                date\n",
       "0     47.8 2010-01-01 00:00:00\n",
       "1     47.4 2010-01-01 01:00:00\n",
       "2     46.9 2010-01-01 02:00:00\n",
       "3     46.5 2010-01-01 03:00:00\n",
       "4     46.0 2010-01-01 04:00:00\n",
       "...    ...                 ...\n",
       "8754  50.4 2010-12-31 19:00:00\n",
       "8755  49.9 2010-12-31 20:00:00\n",
       "8756  49.4 2010-12-31 21:00:00\n",
       "8757  48.8 2010-12-31 22:00:00\n",
       "8758  48.3 2010-12-31 23:00:00\n",
       "\n",
       "[8759 rows x 2 columns]"
      ]
     },
     "execution_count": 2,
     "metadata": {},
     "output_type": "execute_result"
    }
   ],
   "source": [
    "# Temps dataset\n",
    "df = vega_datasets.data.sf_temps()\n",
    "df"
   ]
  },
  {
   "cell_type": "markdown",
   "id": "c744f276",
   "metadata": {},
   "source": [
    "1. Resample by the day and take the average temperature. Visualize the average temperature over time."
   ]
  },
  {
   "cell_type": "code",
   "execution_count": 3,
   "id": "c3f67fa8",
   "metadata": {},
   "outputs": [
    {
     "data": {
      "text/plain": [
       "<AxesSubplot:title={'center':'Average Daily Temperature'}, xlabel='date'>"
      ]
     },
     "execution_count": 3,
     "metadata": {},
     "output_type": "execute_result"
    },
    {
     "data": {
      "image/png": "[encoded data removed]",
      "text/plain": [
       "<Figure size 432x288 with 1 Axes>"
      ]
     },
     "metadata": {
      "needs_background": "light"
     },
     "output_type": "display_data"
    }
   ],
   "source": [
    "df = df.set_index('date')\n",
    "pd.Timedelta('1d')\n",
    "df.resample('D').mean().plot(title='Average Daily Temperature')"
   ]
  },
  {
   "cell_type": "markdown",
   "id": "8b94fa91",
   "metadata": {},
   "source": [
    "2. Write the code necessary to visualize the minimum temperature over time."
   ]
  },
  {
   "cell_type": "code",
   "execution_count": 4,
   "id": "b77a3acb",
   "metadata": {},
   "outputs": [
    {
     "data": {
      "text/plain": [
       "<AxesSubplot:title={'center':'Minimum Daily Temperature'}, xlabel='date'>"
      ]
     },
     "execution_count": 4,
     "metadata": {},
     "output_type": "execute_result"
    },
    {
     "data": {
      "image/png": "[encoded data removed]",
      "text/plain": [
       "<Figure size 432x288 with 1 Axes>"
      ]
     },
     "metadata": {
      "needs_background": "light"
     },
     "output_type": "display_data"
    }
   ],
   "source": [
    "df.resample('D').min().plot(title='Minimum Daily Temperature')"
   ]
  },
  {
   "cell_type": "markdown",
   "id": "ab1fb9ec",
   "metadata": {},
   "source": [
    "3. Write the code necessary to visualize the maximum temperature over time."
   ]
  },
  {
   "cell_type": "code",
   "execution_count": 5,
   "id": "4b36de6c",
   "metadata": {},
   "outputs": [
    {
     "data": {
      "text/plain": [
       "<AxesSubplot:title={'center':'Maximum Daily Temperature'}, xlabel='date'>"
      ]
     },
     "execution_count": 5,
     "metadata": {},
     "output_type": "execute_result"
    },
    {
     "data": {
      "image/png": "[encoded data removed]",
      "text/plain": [
       "<Figure size 432x288 with 1 Axes>"
      ]
     },
     "metadata": {
      "needs_background": "light"
     },
     "output_type": "display_data"
    }
   ],
   "source": [
    "df.resample('D').max().plot(title='Maximum Daily Temperature')"
   ]
  },
  {
   "cell_type": "markdown",
   "id": "270d555f",
   "metadata": {},
   "source": [
    "4. Which month is the coldest, on average?"
   ]
  },
  {
   "cell_type": "markdown",
   "id": "af5f9158",
   "metadata": {},
   "source": [
    "5. Which month has the highest average temperature?"
   ]
  },
  {
   "cell_type": "code",
   "execution_count": 6,
   "id": "eef60dd6",
   "metadata": {},
   "outputs": [
    {
     "data": {
      "text/plain": [
       "month\n",
       "01-Jan    49.984140\n",
       "12-Dec    50.498253\n",
       "02-Feb    52.243899\n",
       "03-Mar    53.956528\n",
       "11-Nov    55.185139\n",
       "04-Apr    55.633056\n",
       "05-May    57.970968\n",
       "10-Oct    60.253091\n",
       "06-Jun    60.444722\n",
       "07-Jul    61.765457\n",
       "08-Aug    62.405376\n",
       "09-Sep    62.487083\n",
       "Name: temp, dtype: float64"
      ]
     },
     "execution_count": 6,
     "metadata": {},
     "output_type": "execute_result"
    }
   ],
   "source": [
    "df['month'] = df.index.strftime('%m-%b')\n",
    "df.groupby('month').temp.mean().sort_values()"
   ]
  },
  {
   "cell_type": "markdown",
   "id": "6c1efaa4",
   "metadata": {},
   "source": [
    "6. Resample by the day and calculate the min and max temp for the day (Hint: .agg(['min', 'max'])). Use this resampled dataframe to calculate the change in temperature for the day. Which month has the highest daily temperature variability?"
   ]
  },
  {
   "cell_type": "code",
   "execution_count": 7,
   "id": "76dabeb2",
   "metadata": {},
   "outputs": [
    {
     "data": {
      "text/plain": [
       "month\n",
       "10-Oct    14.4\n",
       "06-Jun    14.8\n",
       "07-Jul    14.8\n",
       "09-Sep    14.9\n",
       "08-Aug    15.0\n",
       "Name: temp_change, dtype: float64"
      ]
     },
     "execution_count": 7,
     "metadata": {},
     "output_type": "execute_result"
    }
   ],
   "source": [
    "# change in temp by day\n",
    "daily = df.resample('D').temp.agg(['min', 'max'])\n",
    "daily['temp_change'] = daily['max'] - daily['min']\n",
    "daily['month'] = daily.index.strftime('%m-%b')\n",
    "daily.groupby('month').temp_change.max().sort_values().tail()"
   ]
  },
  {
   "cell_type": "markdown",
   "id": "0001071b",
   "metadata": {},
   "source": [
    "7. Bonus: Visualize the daily min, average, and max temperature over time on a single line plot, i.e. the min, average, and maximum temperature should be 3 seperate lines."
   ]
  },
  {
   "cell_type": "code",
   "execution_count": 8,
   "id": "e0c56fba",
   "metadata": {},
   "outputs": [
    {
     "data": {
      "text/plain": [
       "<AxesSubplot:xlabel='date', ylabel='value'>"
      ]
     },
     "execution_count": 8,
     "metadata": {},
     "output_type": "execute_result"
    },
    {
     "data": {
      "image/png": "[encoded data removed]",
      "text/plain": [
       "<Figure size 432x288 with 1 Axes>"
      ]
     },
     "metadata": {
      "needs_background": "light"
     },
     "output_type": "display_data"
    }
   ],
   "source": [
    "daily = df.resample('D').temp.agg(['min', 'mean', 'max'])\n",
    "daily = daily.reset_index().melt(id_vars=['date'])\n",
    "sns.lineplot(data=daily, x='date', y='value', hue='variable')"
   ]
  },
  {
   "cell_type": "markdown",
   "id": "14c757b3",
   "metadata": {},
   "source": [
    "## Exercises Part 2"
   ]
  },
  {
   "cell_type": "code",
   "execution_count": 12,
   "id": "acf5ae09",
   "metadata": {},
   "outputs": [
    {
     "data": {
      "text/html": [
       "<div>\n",
       "<style scoped>\n",
       "    .dataframe tbody tr th:only-of-type {\n",
       "        vertical-align: middle;\n",
       "    }\n",
       "\n",
       "    .dataframe tbody tr th {\n",
       "        vertical-align: top;\n",
       "    }\n",
       "\n",
       "    .dataframe thead th {\n",
       "        text-align: right;\n",
       "    }\n",
       "</style>\n",
       "<table border=\"1\" class=\"dataframe\">\n",
       "  <thead>\n",
       "    <tr style=\"text-align: right;\">\n",
       "      <th></th>\n",
       "      <th>date</th>\n",
       "      <th>precipitation</th>\n",
       "      <th>temp_max</th>\n",
       "      <th>temp_min</th>\n",
       "      <th>wind</th>\n",
       "      <th>weather</th>\n",
       "    </tr>\n",
       "  </thead>\n",
       "  <tbody>\n",
       "    <tr>\n",
       "      <th>0</th>\n",
       "      <td>2012-01-01</td>\n",
       "      <td>0.0</td>\n",
       "      <td>12.8</td>\n",
       "      <td>5.0</td>\n",
       "      <td>4.7</td>\n",
       "      <td>drizzle</td>\n",
       "    </tr>\n",
       "    <tr>\n",
       "      <th>1</th>\n",
       "      <td>2012-01-02</td>\n",
       "      <td>10.9</td>\n",
       "      <td>10.6</td>\n",
       "      <td>2.8</td>\n",
       "      <td>4.5</td>\n",
       "      <td>rain</td>\n",
       "    </tr>\n",
       "    <tr>\n",
       "      <th>2</th>\n",
       "      <td>2012-01-03</td>\n",
       "      <td>0.8</td>\n",
       "      <td>11.7</td>\n",
       "      <td>7.2</td>\n",
       "      <td>2.3</td>\n",
       "      <td>rain</td>\n",
       "    </tr>\n",
       "    <tr>\n",
       "      <th>3</th>\n",
       "      <td>2012-01-04</td>\n",
       "      <td>20.3</td>\n",
       "      <td>12.2</td>\n",
       "      <td>5.6</td>\n",
       "      <td>4.7</td>\n",
       "      <td>rain</td>\n",
       "    </tr>\n",
       "    <tr>\n",
       "      <th>4</th>\n",
       "      <td>2012-01-05</td>\n",
       "      <td>1.3</td>\n",
       "      <td>8.9</td>\n",
       "      <td>2.8</td>\n",
       "      <td>6.1</td>\n",
       "      <td>rain</td>\n",
       "    </tr>\n",
       "    <tr>\n",
       "      <th>...</th>\n",
       "      <td>...</td>\n",
       "      <td>...</td>\n",
       "      <td>...</td>\n",
       "      <td>...</td>\n",
       "      <td>...</td>\n",
       "      <td>...</td>\n",
       "    </tr>\n",
       "    <tr>\n",
       "      <th>1456</th>\n",
       "      <td>2015-12-27</td>\n",
       "      <td>8.6</td>\n",
       "      <td>4.4</td>\n",
       "      <td>1.7</td>\n",
       "      <td>2.9</td>\n",
       "      <td>fog</td>\n",
       "    </tr>\n",
       "    <tr>\n",
       "      <th>1457</th>\n",
       "      <td>2015-12-28</td>\n",
       "      <td>1.5</td>\n",
       "      <td>5.0</td>\n",
       "      <td>1.7</td>\n",
       "      <td>1.3</td>\n",
       "      <td>fog</td>\n",
       "    </tr>\n",
       "    <tr>\n",
       "      <th>1458</th>\n",
       "      <td>2015-12-29</td>\n",
       "      <td>0.0</td>\n",
       "      <td>7.2</td>\n",
       "      <td>0.6</td>\n",
       "      <td>2.6</td>\n",
       "      <td>fog</td>\n",
       "    </tr>\n",
       "    <tr>\n",
       "      <th>1459</th>\n",
       "      <td>2015-12-30</td>\n",
       "      <td>0.0</td>\n",
       "      <td>5.6</td>\n",
       "      <td>-1.0</td>\n",
       "      <td>3.4</td>\n",
       "      <td>sun</td>\n",
       "    </tr>\n",
       "    <tr>\n",
       "      <th>1460</th>\n",
       "      <td>2015-12-31</td>\n",
       "      <td>0.0</td>\n",
       "      <td>5.6</td>\n",
       "      <td>-2.1</td>\n",
       "      <td>3.5</td>\n",
       "      <td>sun</td>\n",
       "    </tr>\n",
       "  </tbody>\n",
       "</table>\n",
       "<p>1461 rows × 6 columns</p>\n",
       "</div>"
      ],
      "text/plain": [
       "           date  precipitation  temp_max  temp_min  wind  weather\n",
       "0    2012-01-01            0.0      12.8       5.0   4.7  drizzle\n",
       "1    2012-01-02           10.9      10.6       2.8   4.5     rain\n",
       "2    2012-01-03            0.8      11.7       7.2   2.3     rain\n",
       "3    2012-01-04           20.3      12.2       5.6   4.7     rain\n",
       "4    2012-01-05            1.3       8.9       2.8   6.1     rain\n",
       "...         ...            ...       ...       ...   ...      ...\n",
       "1456 2015-12-27            8.6       4.4       1.7   2.9      fog\n",
       "1457 2015-12-28            1.5       5.0       1.7   1.3      fog\n",
       "1458 2015-12-29            0.0       7.2       0.6   2.6      fog\n",
       "1459 2015-12-30            0.0       5.6      -1.0   3.4      sun\n",
       "1460 2015-12-31            0.0       5.6      -2.1   3.5      sun\n",
       "\n",
       "[1461 rows x 6 columns]"
      ]
     },
     "execution_count": 12,
     "metadata": {},
     "output_type": "execute_result"
    }
   ],
   "source": [
    "vega_datasets.data.seattle_weather()"
   ]
  },
  {
   "cell_type": "markdown",
   "id": "f756bf54",
   "metadata": {},
   "source": [
    "1. Which year and month combination has the highest amount of precipitation?"
   ]
  },
  {
   "cell_type": "code",
   "execution_count": 13,
   "id": "6d2f7e8e",
   "metadata": {},
   "outputs": [
    {
     "data": {
      "text/html": [
       "<div>\n",
       "<style scoped>\n",
       "    .dataframe tbody tr th:only-of-type {\n",
       "        vertical-align: middle;\n",
       "    }\n",
       "\n",
       "    .dataframe tbody tr th {\n",
       "        vertical-align: top;\n",
       "    }\n",
       "\n",
       "    .dataframe thead th {\n",
       "        text-align: right;\n",
       "    }\n",
       "</style>\n",
       "<table border=\"1\" class=\"dataframe\">\n",
       "  <thead>\n",
       "    <tr style=\"text-align: right;\">\n",
       "      <th></th>\n",
       "      <th>precipitation</th>\n",
       "      <th>temp_max</th>\n",
       "      <th>temp_min</th>\n",
       "      <th>wind</th>\n",
       "      <th>weather</th>\n",
       "      <th>month</th>\n",
       "      <th>year</th>\n",
       "    </tr>\n",
       "    <tr>\n",
       "      <th>date</th>\n",
       "      <th></th>\n",
       "      <th></th>\n",
       "      <th></th>\n",
       "      <th></th>\n",
       "      <th></th>\n",
       "      <th></th>\n",
       "      <th></th>\n",
       "    </tr>\n",
       "  </thead>\n",
       "  <tbody>\n",
       "    <tr>\n",
       "      <th>2012-01-01</th>\n",
       "      <td>0.0</td>\n",
       "      <td>12.8</td>\n",
       "      <td>5.0</td>\n",
       "      <td>4.7</td>\n",
       "      <td>drizzle</td>\n",
       "      <td>01-Jan</td>\n",
       "      <td>2012</td>\n",
       "    </tr>\n",
       "    <tr>\n",
       "      <th>2012-01-02</th>\n",
       "      <td>10.9</td>\n",
       "      <td>10.6</td>\n",
       "      <td>2.8</td>\n",
       "      <td>4.5</td>\n",
       "      <td>rain</td>\n",
       "      <td>01-Jan</td>\n",
       "      <td>2012</td>\n",
       "    </tr>\n",
       "    <tr>\n",
       "      <th>2012-01-03</th>\n",
       "      <td>0.8</td>\n",
       "      <td>11.7</td>\n",
       "      <td>7.2</td>\n",
       "      <td>2.3</td>\n",
       "      <td>rain</td>\n",
       "      <td>01-Jan</td>\n",
       "      <td>2012</td>\n",
       "    </tr>\n",
       "    <tr>\n",
       "      <th>2012-01-04</th>\n",
       "      <td>20.3</td>\n",
       "      <td>12.2</td>\n",
       "      <td>5.6</td>\n",
       "      <td>4.7</td>\n",
       "      <td>rain</td>\n",
       "      <td>01-Jan</td>\n",
       "      <td>2012</td>\n",
       "    </tr>\n",
       "    <tr>\n",
       "      <th>2012-01-05</th>\n",
       "      <td>1.3</td>\n",
       "      <td>8.9</td>\n",
       "      <td>2.8</td>\n",
       "      <td>6.1</td>\n",
       "      <td>rain</td>\n",
       "      <td>01-Jan</td>\n",
       "      <td>2012</td>\n",
       "    </tr>\n",
       "  </tbody>\n",
       "</table>\n",
       "</div>"
      ],
      "text/plain": [
       "            precipitation  temp_max  temp_min  wind  weather   month  year\n",
       "date                                                                      \n",
       "2012-01-01            0.0      12.8       5.0   4.7  drizzle  01-Jan  2012\n",
       "2012-01-02           10.9      10.6       2.8   4.5     rain  01-Jan  2012\n",
       "2012-01-03            0.8      11.7       7.2   2.3     rain  01-Jan  2012\n",
       "2012-01-04           20.3      12.2       5.6   4.7     rain  01-Jan  2012\n",
       "2012-01-05            1.3       8.9       2.8   6.1     rain  01-Jan  2012"
      ]
     },
     "execution_count": 13,
     "metadata": {},
     "output_type": "execute_result"
    }
   ],
   "source": [
    "df = vega_datasets.data.seattle_weather()\n",
    "df = df.set_index('date')\n",
    "df['month'] = df.index.strftime('%m-%b')\n",
    "df['year'] = df.index.year\n",
    "df.head()"
   ]
  },
  {
   "cell_type": "code",
   "execution_count": 18,
   "id": "824f1215",
   "metadata": {},
   "outputs": [
    {
     "data": {
      "text/plain": [
       "date\n",
       "2015-12-31    284.5\n",
       "Name: precipitation, dtype: float64"
      ]
     },
     "execution_count": 18,
     "metadata": {},
     "output_type": "execute_result"
    }
   ],
   "source": [
    "# Highest precipitation\n",
    "df.resample('M').precipitation.sum().sort_values().tail(1)"
   ]
  },
  {
   "cell_type": "markdown",
   "id": "da03da90",
   "metadata": {},
   "source": [
    "2. Visualize the amount of monthly precipitation over time."
   ]
  },
  {
   "cell_type": "code",
   "execution_count": 15,
   "id": "99da42d5",
   "metadata": {},
   "outputs": [
    {
     "data": {
      "text/plain": [
       "<AxesSubplot:title={'center':'Monthly Precipitation'}, xlabel='date'>"
      ]
     },
     "execution_count": 15,
     "metadata": {},
     "output_type": "execute_result"
    },
    {
     "data": {
      "image/png": "[encoded data removed]",
      "text/plain": [
       "<Figure size 432x288 with 1 Axes>"
      ]
     },
     "metadata": {
      "needs_background": "light"
     },
     "output_type": "display_data"
    }
   ],
   "source": [
    "df.resample('M').precipitation.sum().plot(title='Monthly Precipitation')"
   ]
  },
  {
   "cell_type": "markdown",
   "id": "1450bc79",
   "metadata": {},
   "source": [
    "3. Visualize the amount of wind over time. Choose a time interval you think is appropriate."
   ]
  },
  {
   "cell_type": "code",
   "execution_count": 16,
   "id": "13c6940a",
   "metadata": {},
   "outputs": [
    {
     "data": {
      "text/plain": [
       "<AxesSubplot:title={'center':'Biweekly Average Wind'}, xlabel='date'>"
      ]
     },
     "execution_count": 16,
     "metadata": {},
     "output_type": "execute_result"
    },
    {
     "data": {
      "image/png": "[encoded data removed]",
      "text/plain": [
       "<Figure size 432x288 with 1 Axes>"
      ]
     },
     "metadata": {
      "needs_background": "light"
     },
     "output_type": "display_data"
    }
   ],
   "source": [
    "df.resample('2w').wind.mean().plot(title='Biweekly Average Wind')"
   ]
  },
  {
   "cell_type": "markdown",
   "id": "f956d423",
   "metadata": {},
   "source": [
    "4. Which year-month combination is the windiest?"
   ]
  },
  {
   "cell_type": "code",
   "execution_count": 21,
   "id": "bd72ace3",
   "metadata": {},
   "outputs": [
    {
     "data": {
      "text/plain": [
       "(2015, '12-Dec')"
      ]
     },
     "execution_count": 21,
     "metadata": {},
     "output_type": "execute_result"
    }
   ],
   "source": [
    "df.groupby(['year', 'month']).sum().wind.idxmax()"
   ]
  },
  {
   "cell_type": "markdown",
   "id": "276b6200",
   "metadata": {},
   "source": [
    "5. What's the sunniest year? (Hint: which day has the highest number of days where weather == sun?)"
   ]
  },
  {
   "cell_type": "code",
   "execution_count": 17,
   "id": "4b8a0079",
   "metadata": {},
   "outputs": [
    {
     "data": {
      "text/plain": [
       "year\n",
       "2012    0.322404\n",
       "2015    0.493151\n",
       "2013    0.561644\n",
       "2014    0.578082\n",
       "Name: is_sunny, dtype: float64"
      ]
     },
     "execution_count": 17,
     "metadata": {},
     "output_type": "execute_result"
    }
   ],
   "source": [
    "df['is_sunny'] = df.weather == 'sun'\n",
    "# NB. previously we did a resample, could also group by date components\n",
    "df.groupby(['year']).is_sunny.mean().sort_values()"
   ]
  },
  {
   "cell_type": "markdown",
   "id": "203543da",
   "metadata": {},
   "source": [
    "6. In which month does it rain the most?"
   ]
  },
  {
   "cell_type": "code",
   "execution_count": 25,
   "id": "aa89d8e5",
   "metadata": {},
   "outputs": [
    {
     "data": {
      "text/plain": [
       "month\n",
       "01-Jan    466.0\n",
       "10-Oct    503.4\n",
       "03-Mar    606.2\n",
       "12-Dec    622.7\n",
       "11-Nov    642.5\n",
       "Name: precipitation, dtype: float64"
      ]
     },
     "execution_count": 25,
     "metadata": {},
     "output_type": "execute_result"
    }
   ],
   "source": [
    "df.groupby('month').precipitation.sum().sort_values().tail()"
   ]
  },
  {
   "cell_type": "markdown",
   "id": "11e3dae8",
   "metadata": {},
   "source": [
    "7. Which month has the most number of days with a non-zero amount of precipitation?"
   ]
  },
  {
   "cell_type": "code",
   "execution_count": 26,
   "id": "4a9eabe0",
   "metadata": {},
   "outputs": [
    {
     "data": {
      "text/plain": [
       "month\n",
       "01-Jan    0.532258\n",
       "03-Mar    0.588710\n",
       "11-Nov    0.591667\n",
       "02-Feb    0.646018\n",
       "12-Dec    0.653226\n",
       "Name: nonzero_precipitation, dtype: float64"
      ]
     },
     "execution_count": 26,
     "metadata": {},
     "output_type": "execute_result"
    }
   ],
   "source": [
    "df['nonzero_precipitation'] = df.precipitation > 0\n",
    "df.groupby('month').nonzero_precipitation.mean().sort_values().tail()"
   ]
  },
  {
   "cell_type": "markdown",
   "id": "a95b6448",
   "metadata": {},
   "source": [
    "## Exercises Part 3"
   ]
  },
  {
   "cell_type": "code",
   "execution_count": 28,
   "id": "afcb770b",
   "metadata": {},
   "outputs": [
    {
     "data": {
      "text/html": [
       "<div>\n",
       "<style scoped>\n",
       "    .dataframe tbody tr th:only-of-type {\n",
       "        vertical-align: middle;\n",
       "    }\n",
       "\n",
       "    .dataframe tbody tr th {\n",
       "        vertical-align: top;\n",
       "    }\n",
       "\n",
       "    .dataframe thead th {\n",
       "        text-align: right;\n",
       "    }\n",
       "</style>\n",
       "<table border=\"1\" class=\"dataframe\">\n",
       "  <thead>\n",
       "    <tr style=\"text-align: right;\">\n",
       "      <th></th>\n",
       "      <th>delay</th>\n",
       "      <th>distance</th>\n",
       "      <th>origin</th>\n",
       "      <th>destination</th>\n",
       "    </tr>\n",
       "    <tr>\n",
       "      <th>date</th>\n",
       "      <th></th>\n",
       "      <th></th>\n",
       "      <th></th>\n",
       "      <th></th>\n",
       "    </tr>\n",
       "  </thead>\n",
       "  <tbody>\n",
       "    <tr>\n",
       "      <th>2001-01-01 00:01:00</th>\n",
       "      <td>14</td>\n",
       "      <td>405</td>\n",
       "      <td>MCI</td>\n",
       "      <td>MDW</td>\n",
       "    </tr>\n",
       "    <tr>\n",
       "      <th>2001-01-01 06:20:00</th>\n",
       "      <td>0</td>\n",
       "      <td>491</td>\n",
       "      <td>BNA</td>\n",
       "      <td>MCI</td>\n",
       "    </tr>\n",
       "    <tr>\n",
       "      <th>2001-01-01 06:30:00</th>\n",
       "      <td>-8</td>\n",
       "      <td>251</td>\n",
       "      <td>MDW</td>\n",
       "      <td>STL</td>\n",
       "    </tr>\n",
       "    <tr>\n",
       "      <th>2001-01-01 07:00:00</th>\n",
       "      <td>-10</td>\n",
       "      <td>361</td>\n",
       "      <td>OAK</td>\n",
       "      <td>ONT</td>\n",
       "    </tr>\n",
       "    <tr>\n",
       "      <th>2001-01-01 07:00:00</th>\n",
       "      <td>0</td>\n",
       "      <td>303</td>\n",
       "      <td>MSY</td>\n",
       "      <td>HOU</td>\n",
       "    </tr>\n",
       "  </tbody>\n",
       "</table>\n",
       "</div>"
      ],
      "text/plain": [
       "                     delay  distance origin destination\n",
       "date                                                   \n",
       "2001-01-01 00:01:00     14       405    MCI         MDW\n",
       "2001-01-01 06:20:00      0       491    BNA         MCI\n",
       "2001-01-01 06:30:00     -8       251    MDW         STL\n",
       "2001-01-01 07:00:00    -10       361    OAK         ONT\n",
       "2001-01-01 07:00:00      0       303    MSY         HOU"
      ]
     },
     "execution_count": 28,
     "metadata": {},
     "output_type": "execute_result"
    }
   ],
   "source": [
    "df = vega_datasets.data.flights_20k()\n",
    "df = df.sort_values(by = 'date').reset_index(drop=True)\n",
    "df = df.set_index('date')\n",
    "df.head()"
   ]
  },
  {
   "cell_type": "markdown",
   "id": "8617f118",
   "metadata": {},
   "source": [
    "1. Convert any negative delays to 0."
   ]
  },
  {
   "cell_type": "code",
   "execution_count": 29,
   "id": "2c4ead22",
   "metadata": {},
   "outputs": [
    {
     "data": {
      "text/plain": [
       "date\n",
       "2001-01-01 00:01:00    14\n",
       "2001-01-01 06:20:00     0\n",
       "2001-01-01 06:30:00     0\n",
       "2001-01-01 07:00:00     0\n",
       "2001-01-01 07:00:00     0\n",
       "                       ..\n",
       "2001-03-31 21:02:00    26\n",
       "2001-03-31 21:05:00     0\n",
       "2001-03-31 21:05:00     0\n",
       "2001-03-31 21:30:00    30\n",
       "2001-03-31 21:30:00     0\n",
       "Name: delay, Length: 20000, dtype: int64"
      ]
     },
     "execution_count": 29,
     "metadata": {},
     "output_type": "execute_result"
    }
   ],
   "source": [
    "pd.Series(range(1,11)).clip(lower=3, upper=7)\n",
    "df.delay.clip(lower=0)"
   ]
  },
  {
   "cell_type": "code",
   "execution_count": 34,
   "id": "055ceb31",
   "metadata": {},
   "outputs": [
    {
     "data": {
      "text/html": [
       "<div>\n",
       "<style scoped>\n",
       "    .dataframe tbody tr th:only-of-type {\n",
       "        vertical-align: middle;\n",
       "    }\n",
       "\n",
       "    .dataframe tbody tr th {\n",
       "        vertical-align: top;\n",
       "    }\n",
       "\n",
       "    .dataframe thead th {\n",
       "        text-align: right;\n",
       "    }\n",
       "</style>\n",
       "<table border=\"1\" class=\"dataframe\">\n",
       "  <thead>\n",
       "    <tr style=\"text-align: right;\">\n",
       "      <th></th>\n",
       "      <th>delay</th>\n",
       "      <th>distance</th>\n",
       "      <th>origin</th>\n",
       "      <th>destination</th>\n",
       "    </tr>\n",
       "    <tr>\n",
       "      <th>date</th>\n",
       "      <th></th>\n",
       "      <th></th>\n",
       "      <th></th>\n",
       "      <th></th>\n",
       "    </tr>\n",
       "  </thead>\n",
       "  <tbody>\n",
       "    <tr>\n",
       "      <th>2001-01-01 00:01:00</th>\n",
       "      <td>14</td>\n",
       "      <td>405</td>\n",
       "      <td>MCI</td>\n",
       "      <td>MDW</td>\n",
       "    </tr>\n",
       "    <tr>\n",
       "      <th>2001-01-01 06:20:00</th>\n",
       "      <td>0</td>\n",
       "      <td>491</td>\n",
       "      <td>BNA</td>\n",
       "      <td>MCI</td>\n",
       "    </tr>\n",
       "    <tr>\n",
       "      <th>2001-01-01 06:30:00</th>\n",
       "      <td>0</td>\n",
       "      <td>251</td>\n",
       "      <td>MDW</td>\n",
       "      <td>STL</td>\n",
       "    </tr>\n",
       "    <tr>\n",
       "      <th>2001-01-01 07:00:00</th>\n",
       "      <td>0</td>\n",
       "      <td>361</td>\n",
       "      <td>OAK</td>\n",
       "      <td>ONT</td>\n",
       "    </tr>\n",
       "    <tr>\n",
       "      <th>2001-01-01 07:00:00</th>\n",
       "      <td>0</td>\n",
       "      <td>303</td>\n",
       "      <td>MSY</td>\n",
       "      <td>HOU</td>\n",
       "    </tr>\n",
       "  </tbody>\n",
       "</table>\n",
       "</div>"
      ],
      "text/plain": [
       "                     delay  distance origin destination\n",
       "date                                                   \n",
       "2001-01-01 00:01:00     14       405    MCI         MDW\n",
       "2001-01-01 06:20:00      0       491    BNA         MCI\n",
       "2001-01-01 06:30:00      0       251    MDW         STL\n",
       "2001-01-01 07:00:00      0       361    OAK         ONT\n",
       "2001-01-01 07:00:00      0       303    MSY         HOU"
      ]
     },
     "execution_count": 34,
     "metadata": {},
     "output_type": "execute_result"
    }
   ],
   "source": [
    "# pandas where and numpy where behave differently!\n",
    "df.delay = np.where(df.delay < 0, 0, df.delay)\n",
    "df.head()"
   ]
  },
  {
   "cell_type": "markdown",
   "id": "08bb1b56",
   "metadata": {},
   "source": [
    "2. Which hour of the day has the highest average delay?\n"
   ]
  },
  {
   "cell_type": "code",
   "execution_count": 35,
   "id": "98c24e29",
   "metadata": {},
   "outputs": [
    {
     "data": {
      "text/plain": [
       "hour\n",
       "22     32.704607\n",
       "23     65.353846\n",
       "0     127.916667\n",
       "1     170.000000\n",
       "3     302.500000\n",
       "Name: delay, dtype: float64"
      ]
     },
     "execution_count": 35,
     "metadata": {},
     "output_type": "execute_result"
    }
   ],
   "source": [
    "df['hour'] = df.index.hour\n",
    "df.groupby('hour').delay.mean().sort_values().tail()"
   ]
  },
  {
   "cell_type": "markdown",
   "id": "02245edf",
   "metadata": {},
   "source": [
    "3. Does the day of the week make a difference in the delay amount?"
   ]
  },
  {
   "cell_type": "code",
   "execution_count": 36,
   "id": "6390784f",
   "metadata": {},
   "outputs": [
    {
     "data": {
      "text/plain": [
       "weekday\n",
       "1-Mon     7.165772\n",
       "6-Sat     8.431498\n",
       "2-Tue     9.410866\n",
       "0-Sun    10.413542\n",
       "3-Wed    11.032478\n",
       "4-Thu    12.821322\n",
       "5-Fri    17.757596\n",
       "Name: delay, dtype: float64"
      ]
     },
     "execution_count": 36,
     "metadata": {},
     "output_type": "execute_result"
    }
   ],
   "source": [
    "df['weekday'] = df.index.strftime('%w-%a')\n",
    "df.groupby('weekday').delay.mean().sort_values()"
   ]
  },
  {
   "cell_type": "markdown",
   "id": "7bb17961",
   "metadata": {},
   "source": [
    "4. Does the month make a difference in the delay amount?"
   ]
  },
  {
   "cell_type": "code",
   "execution_count": 37,
   "id": "3dbf2346",
   "metadata": {},
   "outputs": [
    {
     "data": {
      "text/plain": [
       "month\n",
       "1    11.301592\n",
       "2    12.306106\n",
       "3     9.875287\n",
       "Name: delay, dtype: float64"
      ]
     },
     "execution_count": 37,
     "metadata": {},
     "output_type": "execute_result"
    }
   ],
   "source": [
    "df['month'] = df.index.month\n",
    "df.groupby('month').delay.mean()"
   ]
  },
  {
   "cell_type": "code",
   "execution_count": null,
   "id": "4c3466be",
   "metadata": {},
   "outputs": [],
   "source": []
  }
 ],
 "metadata": {
  "kernelspec": {
   "display_name": "Python 3 (ipykernel)",
   "language": "python",
   "name": "python3"
  },
  "language_info": {
   "codemirror_mode": {
    "name": "ipython",
    "version": 3
   },
   "file_extension": ".py",
   "mimetype": "text/x-python",
   "name": "python",
   "nbconvert_exporter": "python",
   "pygments_lexer": "ipython3",
   "version": "3.9.7"
  }
 },
 "nbformat": 4,
 "nbformat_minor": 5
}
