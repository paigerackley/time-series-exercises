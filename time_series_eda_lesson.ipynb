{
 "cells": [
  {
   "cell_type": "markdown",
   "id": "63d86371",
   "metadata": {},
   "source": [
    "# Time Series EDA\n",
    "\n",
    "In this lesson we will discuss multiple different visualizations for exploring time series data. The primary use case for Time Series EDA techniques is when we have a single continuous variable sampled over time and we want to identify **trend** and **seasonality**.\n",
    "\n",
    "### Setup\n",
    "We'll be looking at temperature data for san antonio from late 2012 to late 2017.\n",
    "\n",
    "We'll need to convert from Kelvin to Fahrenheit.\n",
    "\n",
    "°F = (K - 273.15) x 1.8000 + 32.00"
   ]
  },
  {
   "cell_type": "code",
   "execution_count": 1,
   "id": "8caf474e",
   "metadata": {},
   "outputs": [],
   "source": [
    "import numpy as np\n",
    "import pandas as pd\n",
    "import matplotlib.pyplot as plt\n",
    "import seaborn as sns\n",
    "import statsmodels.api as sm\n",
    "\n",
    "import warnings\n",
    "warnings.filterwarnings('ignore')"
   ]
  },
  {
   "cell_type": "code",
   "execution_count": 2,
   "id": "a16a653e",
   "metadata": {},
   "outputs": [],
   "source": [
    "# plotting defaults\n",
    "plt.rc('figure', figsize=(13, 7))\n",
    "plt.style.use('seaborn-whitegrid')\n",
    "plt.rc('font', size=16)"
   ]
  },
  {
   "cell_type": "code",
   "execution_count": 3,
   "id": "8cf87f5b",
   "metadata": {},
   "outputs": [
    {
     "name": "stdout",
     "output_type": "stream",
     "text": [
      "Date Range: 2012-10-01 13:00:00 to 2017-11-30 00:00:00\n",
      "Shape: (45252, 1)\n"
     ]
    },
    {
     "data": {
      "text/html": [
       "<div>\n",
       "<style scoped>\n",
       "    .dataframe tbody tr th:only-of-type {\n",
       "        vertical-align: middle;\n",
       "    }\n",
       "\n",
       "    .dataframe tbody tr th {\n",
       "        vertical-align: top;\n",
       "    }\n",
       "\n",
       "    .dataframe thead th {\n",
       "        text-align: right;\n",
       "    }\n",
       "</style>\n",
       "<table border=\"1\" class=\"dataframe\">\n",
       "  <thead>\n",
       "    <tr style=\"text-align: right;\">\n",
       "      <th></th>\n",
       "      <th>temp</th>\n",
       "    </tr>\n",
       "    <tr>\n",
       "      <th>datetime</th>\n",
       "      <th></th>\n",
       "    </tr>\n",
       "  </thead>\n",
       "  <tbody>\n",
       "    <tr>\n",
       "      <th>2012-10-01 13:00:00</th>\n",
       "      <td>61.052000</td>\n",
       "    </tr>\n",
       "    <tr>\n",
       "      <th>2012-10-01 14:00:00</th>\n",
       "      <td>61.076568</td>\n",
       "    </tr>\n",
       "    <tr>\n",
       "      <th>2012-10-01 15:00:00</th>\n",
       "      <td>61.139294</td>\n",
       "    </tr>\n",
       "    <tr>\n",
       "      <th>2012-10-01 16:00:00</th>\n",
       "      <td>61.202020</td>\n",
       "    </tr>\n",
       "    <tr>\n",
       "      <th>2012-10-01 17:00:00</th>\n",
       "      <td>61.264747</td>\n",
       "    </tr>\n",
       "    <tr>\n",
       "      <th>2012-10-01 18:00:00</th>\n",
       "      <td>61.327473</td>\n",
       "    </tr>\n",
       "    <tr>\n",
       "      <th>2012-10-01 19:00:00</th>\n",
       "      <td>61.390200</td>\n",
       "    </tr>\n",
       "    <tr>\n",
       "      <th>2012-10-01 20:00:00</th>\n",
       "      <td>61.452926</td>\n",
       "    </tr>\n",
       "    <tr>\n",
       "      <th>2012-10-01 21:00:00</th>\n",
       "      <td>61.515652</td>\n",
       "    </tr>\n",
       "    <tr>\n",
       "      <th>2012-10-01 22:00:00</th>\n",
       "      <td>61.578379</td>\n",
       "    </tr>\n",
       "  </tbody>\n",
       "</table>\n",
       "</div>"
      ],
      "text/plain": [
       "                          temp\n",
       "datetime                      \n",
       "2012-10-01 13:00:00  61.052000\n",
       "2012-10-01 14:00:00  61.076568\n",
       "2012-10-01 15:00:00  61.139294\n",
       "2012-10-01 16:00:00  61.202020\n",
       "2012-10-01 17:00:00  61.264747\n",
       "2012-10-01 18:00:00  61.327473\n",
       "2012-10-01 19:00:00  61.390200\n",
       "2012-10-01 20:00:00  61.452926\n",
       "2012-10-01 21:00:00  61.515652\n",
       "2012-10-01 22:00:00  61.578379"
      ]
     },
     "execution_count": 3,
     "metadata": {},
     "output_type": "execute_result"
    }
   ],
   "source": [
    "url = \"https://gist.githubusercontent.com/ryanorsinger/0ec766c66f4089bdcbc1d4fb294a3394/raw/197c1f0d7b55a45f29437811bc73d9c4ef8af647/sa_temps.csv\"\n",
    "df = pd.read_csv(url, index_col='datetime', parse_dates=True).sort_index()\n",
    "df.temp = (df.temp - 273.15) * 1.8 + 32\n",
    "\n",
    "print('Date Range:', df.index.min(), 'to', df.index.max())\n",
    "print('Shape:', df.shape)\n",
    "\n",
    "df.head(10)"
   ]
  },
  {
   "cell_type": "markdown",
   "id": "9382abbf",
   "metadata": {},
   "source": [
    "#### Seasonality\n",
    "A repeated cycle in the data. Occurs at fixed frequency. In our weather data there is yearly and daily seasonality.\n",
    "\n",
    "#### Trend\n",
    "Long term upwards or downwards movement\n",
    "\n",
    "#### Cycle\n",
    "Some arbitrary chunk of time, usually longer than a season, or consists of multiple seasons\n",
    "\n",
    "### Data Splitting\n",
    "- Ideally all splits contain a season\n",
    "- Human-based: Using domain knowledge, a cutoff is selected. (ex: use the last year as Test)\n",
    "- Percentage-based: A cutoff is selected arbitrarily (ex: use the last 20% of observations as Test)\n",
    "- Cross-validation-based: Break data into slices and use successive slices as train and test repeatedly\n",
    "\n",
    "`sklearn.model_selection.TimeSeriesSplit`\n",
    "\n",
    "### Percentage Based"
   ]
  },
  {
   "cell_type": "code",
   "execution_count": 4,
   "id": "34c0d811",
   "metadata": {},
   "outputs": [
    {
     "data": {
      "text/plain": [
       "[<matplotlib.lines.Line2D at 0x7fe4d069a130>]"
      ]
     },
     "execution_count": 4,
     "metadata": {},
     "output_type": "execute_result"
    },
    {
     "data": {
      "image/png": "[encoded data removed]",
      "text/plain": [
       "<Figure size 936x504 with 1 Axes>"
      ]
     },
     "metadata": {},
     "output_type": "display_data"
    }
   ],
   "source": [
    "train_size = 0.70 # 70% train, 30% test\n",
    "n = df.shape[0]\n",
    "test_start_index = round(train_size * n)\n",
    "\n",
    "train = df[:test_start_index] # Everything up to but not including the test_start_index\n",
    "test = df[test_start_index:] # Everything from the test_start_index to the end\n",
    "\n",
    "plt.plot(train.index, train.temp)\n",
    "plt.plot(test.index, test.temp)"
   ]
  },
  {
   "cell_type": "markdown",
   "id": "b97a36af",
   "metadata": {},
   "source": [
    "### Human-Based"
   ]
  },
  {
   "cell_type": "code",
   "execution_count": 5,
   "id": "14772fcf",
   "metadata": {},
   "outputs": [
    {
     "data": {
      "text/plain": [
       "[<matplotlib.lines.Line2D at 0x7fe4c3ff27c0>]"
      ]
     },
     "execution_count": 5,
     "metadata": {},
     "output_type": "execute_result"
    },
    {
     "data": {
      "image/png": "[encoded data removed]",
      "text/plain": [
       "<Figure size 936x504 with 1 Axes>"
      ]
     },
     "metadata": {},
     "output_type": "display_data"
    }
   ],
   "source": [
    "train = df[:'2016'] # includes 2016\n",
    "test = df['2017'] \n",
    "\n",
    "plt.plot(train.index, train.temp)\n",
    "plt.plot(test.index, test.temp)"
   ]
  },
  {
   "cell_type": "markdown",
   "id": "217b0751",
   "metadata": {},
   "source": [
    "For now, we will choose to use the data from 2017 as our test data split and explore the data up to 2017. We can choose to repeat this process to create a validate split. \n",
    "\n",
    "### Visualizations\n",
    "\n",
    "Now we will discuss several techniques for time series data visualization.\n",
    "\n",
    "We'll store our target in a variable named y for ease of access, but we will jump back and forth between our `train` DataFrame object and our `y` Series object as we see fit."
   ]
  },
  {
   "cell_type": "code",
   "execution_count": null,
   "id": "617c6832",
   "metadata": {},
   "outputs": [],
   "source": [
    "y = train.temp\n",
    "y.head()"
   ]
  },
  {
   "cell_type": "markdown",
   "id": "62e02495",
   "metadata": {},
   "source": [
    "### Basic Histogram (Ignoring Time Component)"
   ]
  },
  {
   "cell_type": "code",
   "execution_count": null,
   "id": "94d3c4a0",
   "metadata": {},
   "outputs": [],
   "source": [
    "plt.title('Distribution of Temperature')\n",
    "plt.xlabel('Temperature in Fahrenheit')\n",
    "y.plot.hist(linewidth=1.2, edgecolor='black')"
   ]
  },
  {
   "cell_type": "markdown",
   "id": "6d898cd2",
   "metadata": {},
   "source": [
    "We can treat components of the date as separate categorical features. \n",
    "\n",
    "For example, what if we wanted to extract \"month\" from our dates and use that to group our data?\n",
    "\n",
    "<div class=\"alert alert-info\">\n",
    "    <p><strong>Aside: Month and Weekday Ordering</strong></p>\n",
    "    <p>By default, matplotlib/pandas will sort months and weekdays alphabetically, which is usually not what we want.</p>\n",
    "    <p>There are several ways to work around this:</p>\n",
    "    <ul>\n",
    "        <li>Just use the month (1-12) number or weekday number (1-7)</li>\n",
    "        <li>Instead of using just the month or weekday, use a leading number and then the name (e.g. 1-Jan, 2-Feb)</li>\n",
    "        <li>Use a combination of the techniques above, and then re-index the resulting pandas object with more human friendly names</li>\n",
    "        <li>Use a combination of the techniques above, and then manually adjust the labels with matplotlib</li>\n",
    "    </ul>\n",
    "</div>"
   ]
  },
  {
   "cell_type": "code",
   "execution_count": null,
   "id": "aed72675",
   "metadata": {},
   "outputs": [],
   "source": [
    "# make an new column 'month'\n",
    "train['month'] = train.index.strftime('%m-%b')"
   ]
  },
  {
   "cell_type": "code",
   "execution_count": null,
   "id": "6a422a24",
   "metadata": {},
   "outputs": [],
   "source": [
    "train.head()"
   ]
  },
  {
   "cell_type": "code",
   "execution_count": null,
   "id": "c024fdfe",
   "metadata": {},
   "outputs": [],
   "source": [
    "ax = train.groupby(train.month).temp.mean().plot.bar(width=.9, ec='black')\n",
    "plt.xticks(rotation=0)\n",
    "ax.set(title='Average Temperature by Month', xlabel='', ylabel='Temp (F)')\n",
    "plt.show()"
   ]
  },
  {
   "cell_type": "code",
   "execution_count": null,
   "id": "4406c065",
   "metadata": {},
   "outputs": [],
   "source": [
    "train.groupby('month').describe()"
   ]
  },
  {
   "cell_type": "code",
   "execution_count": null,
   "id": "d125e9ae",
   "metadata": {},
   "outputs": [],
   "source": [
    "# boxplot for each month\n",
    "sns.boxplot(data = train, x = 'month', y = 'temp')"
   ]
  },
  {
   "cell_type": "markdown",
   "id": "5138df58",
   "metadata": {},
   "source": [
    "Or we can extract weekday name from our date data:"
   ]
  },
  {
   "cell_type": "code",
   "execution_count": null,
   "id": "1d27569c",
   "metadata": {},
   "outputs": [],
   "source": [
    "train['weekday'] = train.index.day_name()"
   ]
  },
  {
   "cell_type": "code",
   "execution_count": null,
   "id": "fc41132c",
   "metadata": {},
   "outputs": [],
   "source": [
    "train.head()"
   ]
  },
  {
   "cell_type": "code",
   "execution_count": null,
   "id": "10cf991f",
   "metadata": {},
   "outputs": [],
   "source": [
    "sns.barplot(data=train, x='weekday', y='temp', color='steelblue')\\\n",
    "    .set(title='Average Temperature by Day of Week')"
   ]
  },
  {
   "cell_type": "code",
   "execution_count": null,
   "id": "912f5a27",
   "metadata": {},
   "outputs": [],
   "source": [
    "sns.boxplot(x = 'weekday', y = 'temp', data=train) "
   ]
  },
  {
   "cell_type": "markdown",
   "id": "7a89558b",
   "metadata": {},
   "source": [
    "### Visualizing the Target Over Time\n",
    "\n",
    "This can be as simple as calling `.plot` on a dataframe or series with a datetime index."
   ]
  },
  {
   "cell_type": "code",
   "execution_count": null,
   "id": "e4d602ea",
   "metadata": {},
   "outputs": [],
   "source": [
    "y.plot()"
   ]
  },
  {
   "cell_type": "markdown",
   "id": "ffd082f0",
   "metadata": {},
   "source": [
    "We can also resample our target and visualize it over various time periods."
   ]
  },
  {
   "cell_type": "code",
   "execution_count": null,
   "id": "08bf478f",
   "metadata": {},
   "outputs": [],
   "source": [
    "y.resample('6H').mean().plot(title='6 hour average')"
   ]
  },
  {
   "cell_type": "code",
   "execution_count": null,
   "id": "70bd498b",
   "metadata": {},
   "outputs": [],
   "source": [
    "y.resample('2W').mean().plot(title='2 week average')"
   ]
  },
  {
   "cell_type": "markdown",
   "id": "b62be51c",
   "metadata": {},
   "source": [
    "We can combine these visualizations to see how the aggregating smoothes out the data."
   ]
  },
  {
   "cell_type": "code",
   "execution_count": null,
   "id": "b96546c9",
   "metadata": {},
   "outputs": [],
   "source": [
    "y.plot(alpha=.2, label='Hourly')\n",
    "y.resample('D').mean().plot(alpha=.5, label='Daily')\n",
    "y.resample('W').mean().plot(alpha=.8, label='Weekly')\n",
    "y.resample('M').mean().plot(label='Montly')\n",
    "y.resample('Y').mean().plot(label='Yearly')\n",
    "plt.legend()"
   ]
  },
  {
   "cell_type": "markdown",
   "id": "1b5a237f",
   "metadata": {},
   "source": [
    "In addition to resampling, we can calculate moving averages with the `.rolling` method."
   ]
  },
  {
   "cell_type": "code",
   "execution_count": null,
   "id": "388422cd",
   "metadata": {},
   "outputs": [],
   "source": [
    "y.plot(alpha=.2, label='Hourly')\n",
    "y.resample('D').mean().rolling(3).mean().plot(alpha=.5, label='3 day')\n",
    "y.resample('D').mean().rolling(7).mean().plot(alpha=.8, label='1 week')\n",
    "plt.legend()"
   ]
  },
  {
   "cell_type": "markdown",
   "id": "a99a34e4",
   "metadata": {},
   "source": [
    "### Visualizing Volatility\n",
    "`.diff` let's us take the difference between the current and previous value"
   ]
  },
  {
   "cell_type": "code",
   "execution_count": null,
   "id": "81322067",
   "metadata": {},
   "outputs": [],
   "source": [
    "y.diff().plot(title='Hourly Difference in Temperature')"
   ]
  },
  {
   "cell_type": "markdown",
   "id": "e4ec0320",
   "metadata": {},
   "source": [
    "This is a pretty noisy plot. Its difficult to make anything out. Perhaps looking at % change might give us more insight?"
   ]
  },
  {
   "cell_type": "code",
   "execution_count": null,
   "id": "a61d6103",
   "metadata": {},
   "outputs": [],
   "source": [
    "y.diff()"
   ]
  },
  {
   "cell_type": "code",
   "execution_count": null,
   "id": "7075dc63",
   "metadata": {},
   "outputs": [],
   "source": [
    "y.shift()"
   ]
  },
  {
   "cell_type": "code",
   "execution_count": null,
   "id": "45e0b972",
   "metadata": {
    "scrolled": false
   },
   "outputs": [],
   "source": [
    "(y.diff() / y.shift()).plot(alpha=.5, lw=3, title='Hourly % Change in Temperature')"
   ]
  },
  {
   "cell_type": "markdown",
   "id": "616789d7",
   "metadata": {},
   "source": [
    "Although it's slightly better, we really will need to resample to reduce some of this noise."
   ]
  },
  {
   "cell_type": "code",
   "execution_count": null,
   "id": "a2dcec23",
   "metadata": {},
   "outputs": [],
   "source": [
    "y.resample('W').mean().diff()"
   ]
  },
  {
   "cell_type": "code",
   "execution_count": null,
   "id": "7029342b",
   "metadata": {},
   "outputs": [],
   "source": [
    "y.resample('W').mean().diff().plot(title='Average week-to-week change in temperature');"
   ]
  },
  {
   "cell_type": "code",
   "execution_count": null,
   "id": "d575c69f",
   "metadata": {},
   "outputs": [],
   "source": [
    "(y.resample('W').mean().diff() / y.resample('W').mean().shift()).plot(title='Average Week-to-Week % Change in Temperature')"
   ]
  },
  {
   "cell_type": "code",
   "execution_count": null,
   "id": "dccca54e",
   "metadata": {},
   "outputs": [],
   "source": [
    "y.resample('W').mean().shift()"
   ]
  },
  {
   "cell_type": "code",
   "execution_count": null,
   "id": "d268c097",
   "metadata": {},
   "outputs": [],
   "source": [
    "y.resample('M').mean().diff().plot(title='Average month-to-month change in temperature');"
   ]
  },
  {
   "cell_type": "code",
   "execution_count": null,
   "id": "1ed87a4e",
   "metadata": {},
   "outputs": [],
   "source": [
    "(y.resample('M').mean().diff() / y.resample('M').mean().shift()).plot(title='Average Month-to-Month % Change in Temperature')"
   ]
  },
  {
   "cell_type": "markdown",
   "id": "27c5b802",
   "metadata": {},
   "source": [
    "### Seasonal Plot\n",
    "A seasonal plot shows the comparison of multiple seasons together. In this case, our season is one year in length. It is a line plot with the x-axis being the month of the year and the y axis being the target variable. Multiple lines are shown to show multiple years."
   ]
  },
  {
   "cell_type": "code",
   "execution_count": null,
   "id": "8e6812c0",
   "metadata": {},
   "outputs": [],
   "source": [
    "# Start off by getting average temperate for each year-month combination:\n",
    "y.groupby([y.index.year, y.index.month]).mean()"
   ]
  },
  {
   "cell_type": "code",
   "execution_count": null,
   "id": "e2c44d8e",
   "metadata": {},
   "outputs": [],
   "source": [
    "# unstack is similar to pivot_table and be used to break up multi-level indices. \n",
    "# In this case, we turn the 0 index level into columns\n",
    "y.groupby([y.index.year, y.index.month]).mean().unstack(0)"
   ]
  },
  {
   "cell_type": "code",
   "execution_count": null,
   "id": "4d82818a",
   "metadata": {},
   "outputs": [],
   "source": [
    "# Run .plot on this object\n",
    "y.groupby([y.index.year, y.index.month]).mean().unstack(0).plot()"
   ]
  },
  {
   "cell_type": "markdown",
   "id": "def05f24",
   "metadata": {},
   "source": [
    "### Seasonal Subseries Plot\n",
    "A seasonal subseries plot shows the change year-over-year within each month.\n",
    "\n",
    "Do not use this plot as part of presentation! This is for EDA only."
   ]
  },
  {
   "cell_type": "code",
   "execution_count": null,
   "id": "28d29c00",
   "metadata": {},
   "outputs": [],
   "source": [
    "# This is actually the same pivot table as above, but months are on the top and years are on the left\n",
    "table = y.groupby([y.index.year, y.index.month]).mean().unstack()\n",
    "table"
   ]
  },
  {
   "cell_type": "code",
   "execution_count": null,
   "id": "3438d9f6",
   "metadata": {},
   "outputs": [],
   "source": [
    "fig, axs = plt.subplots(1, 12, sharey=True, sharex=True)\n",
    "for ax, (month, subset) in zip(axs, table.iteritems()):\n",
    "    subset.plot(ax=ax, title=month)m\n",
    "    x_left, x_right = ax.get_xlim()\n",
    "    ax.hlines(subset.mean(), x_left, x_right, ls='--')\n",
    "    ax.set(xlabel='')\n",
    "\n",
    "fig.suptitle('Seasonal Subseries Plot') # super-title for the overall figure\n",
    "fig.subplots_adjust(wspace=0)"
   ]
  },
  {
   "cell_type": "markdown",
   "id": "a4d4df03",
   "metadata": {},
   "source": [
    "#### As with the monthly box plot, the seasonal pattern is quite evident in the seasonal subseries.\n",
    "- Do the data exhibit a seasonal pattern?\n",
    "- What is the nature of the seasonality?\n",
    "- Is there a within-group pattern (e.g., do January and July exhibit similar patterns)?\n",
    "- Are there any outliers once seasonality has been accounted for?\n",
    "- Should I use box plot instead?"
   ]
  },
  {
   "cell_type": "markdown",
   "id": "8df7f3c7",
   "metadata": {},
   "source": [
    "### What if seasonality is not that readily apparent?\n",
    "\n",
    "Is there a seasonality in this data?"
   ]
  },
  {
   "attachments": {
    "Screen%20Shot%202022-06-27%20at%2012.31.11%20AM.png": {
     "image/png": "[encoded data removed]"
    }
   },
   "cell_type": "markdown",
   "id": "cbf878de",
   "metadata": {},
   "source": [
    "![Screen%20Shot%202022-06-27%20at%2012.31.11%20AM.png](attachment:Screen%20Shot%202022-06-27%20at%2012.31.11%20AM.png)"
   ]
  },
  {
   "cell_type": "markdown",
   "id": "b2d9d71d",
   "metadata": {},
   "source": [
    "### Lag Plot\n",
    "\n",
    "A lag plot is a scatter plot of a series with itself, shifted, or lagged. Put another way, a lag plot measures one value against the next or previous value.\n",
    "\n",
    "If your data is sampled daily, you could think of `t` as 'today', `t+1` is 'tomorrow'. More generally, `t` is any given time period and `t+1` is the time period after. If your data is sampled weekly, `t` is any given week, and `t+1` is the following week."
   ]
  },
  {
   "cell_type": "code",
   "execution_count": null,
   "id": "0ee866e1",
   "metadata": {},
   "outputs": [],
   "source": [
    "train['y(t + 1)'] = train.temp.shift(-1)"
   ]
  },
  {
   "cell_type": "code",
   "execution_count": null,
   "id": "93556f5a",
   "metadata": {
    "scrolled": true
   },
   "outputs": [],
   "source": [
    "train"
   ]
  },
  {
   "cell_type": "code",
   "execution_count": null,
   "id": "efceea18",
   "metadata": {},
   "outputs": [],
   "source": [
    "ax = train.plot.scatter(x='temp', y='y(t + 1)')\n",
    "ax.set(xlabel='t', ylabel='t + 1')"
   ]
  },
  {
   "cell_type": "code",
   "execution_count": null,
   "id": "63f56da3",
   "metadata": {},
   "outputs": [],
   "source": [
    "del train['y(t + 1)']"
   ]
  },
  {
   "cell_type": "code",
   "execution_count": null,
   "id": "1591b2b6",
   "metadata": {},
   "outputs": [],
   "source": [
    "daily = train.resample('D').mean()\n",
    "daily['temp_next_day'] = daily.temp.shift(-1)\n",
    "daily.plot.scatter(x='temp', y='temp_next_day')"
   ]
  },
  {
   "cell_type": "code",
   "execution_count": null,
   "id": "afa64466",
   "metadata": {},
   "outputs": [],
   "source": [
    "weekly = train.resample('W').mean()\n",
    "weekly['the_next_week'] = weekly.temp.shift(-1)\n",
    "weekly = weekly.rename(columns={'temp': 'this_week'})\n",
    "weekly.head()"
   ]
  },
  {
   "cell_type": "code",
   "execution_count": null,
   "id": "4e916a5e",
   "metadata": {},
   "outputs": [],
   "source": [
    "weekly.plot.scatter(x='this_week', y='the_next_week')"
   ]
  },
  {
   "cell_type": "code",
   "execution_count": null,
   "id": "3664168c",
   "metadata": {},
   "outputs": [],
   "source": [
    "weekly = df.resample('W').mean()\n",
    "weekly['12_weeks_out'] = weekly.temp.shift(-12)\n",
    "weekly = weekly.rename(columns={'temp': 'this_week'})\n",
    "weekly.plot.scatter(x='this_week', y='12_weeks_out')\n",
    "weekly.head()"
   ]
  },
  {
   "cell_type": "code",
   "execution_count": null,
   "id": "742822d7",
   "metadata": {},
   "outputs": [],
   "source": [
    "weekly = df.resample('W').mean()\n",
    "weekly['26_weeks_out'] = weekly.temp.shift(-26)\n",
    "weekly = weekly.rename(columns={'temp': 'this_week'})\n",
    "weekly.plot.scatter(x='this_week', y='26_weeks_out')\n",
    "weekly.head()"
   ]
  },
  {
   "cell_type": "markdown",
   "id": "5d4844ec",
   "metadata": {},
   "source": [
    "Note that pandas has a built in `lag_plot()` function that can do some of the work for us:"
   ]
  },
  {
   "cell_type": "code",
   "execution_count": null,
   "id": "0254c229",
   "metadata": {},
   "outputs": [],
   "source": [
    "# easier way. Use pd.plotting.lag_plot(series, lag):m\n",
    "pd.plotting.lag_plot(train.temp.resample('W').mean(), lag=26)"
   ]
  },
  {
   "cell_type": "markdown",
   "id": "d67f4b0e",
   "metadata": {},
   "source": [
    "### Autocorrelation Plot\n",
    "**Autocorrelation** is a measure of the linear relationship between lagged values of a time series. An autocorrelation plot shows the correlation coefficient as a function of lag time."
   ]
  },
  {
   "cell_type": "code",
   "execution_count": null,
   "id": "c04b441a",
   "metadata": {},
   "outputs": [],
   "source": [
    "pd.plotting.autocorrelation_plot(train.temp.resample('W').mean())"
   ]
  },
  {
   "cell_type": "markdown",
   "id": "479ac51b",
   "metadata": {},
   "source": [
    "This can help us identify seasonality by looking at the peaks and valleys of the resulting visualization. The peaks can tells us the frequency with which the seasonality repeats itself, and the valleys show us where the correlation is the most negative.\n",
    "\n",
    "The dashed lines are a way measure whether the observed autocorrelation is a meaningful signal or just white noise. If the majority of the peaks and valleys fall within the dashed lines, the time series is probably white noise.\n",
    "\n",
    "### What does autocorrelation look like for white noise?"
   ]
  },
  {
   "cell_type": "code",
   "execution_count": null,
   "id": "d97b9f3b",
   "metadata": {},
   "outputs": [],
   "source": [
    "grid = np.linspace(0, 720, 500)\n",
    "noise = np.random.rand(500)\n",
    "# result_curve =  noise\n",
    "plt.plot(grid, noise)"
   ]
  },
  {
   "cell_type": "code",
   "execution_count": null,
   "id": "8a76bc45",
   "metadata": {},
   "outputs": [],
   "source": [
    "#plot the autocorrelation for noise\n",
    "\n",
    "pd.plotting.autocorrelation_plot(noise)"
   ]
  },
  {
   "cell_type": "markdown",
   "id": "921e3bbe",
   "metadata": {},
   "source": [
    "### Seasonal Decomposition\n",
    "\n",
    "Seasonal decomposition is a fancy way to say that we can model time series as having 3 seperate components, the seasonal repeated cycle, the long term trend, and random noise1. There are two types of seasonal decomposition models, additive and multiplicative.\n",
    "\n",
    "$$ y = S + T + \\epsilon $$\n",
    "\n",
    "### data = Seasonality + Trend + Residual"
   ]
  },
  {
   "cell_type": "code",
   "execution_count": null,
   "id": "b45861fd",
   "metadata": {},
   "outputs": [],
   "source": [
    "y = train.temp.resample('W').mean()\n",
    "\n",
    "result = sm.tsa.seasonal_decompose(y)\n",
    "result"
   ]
  },
  {
   "cell_type": "code",
   "execution_count": null,
   "id": "563c23c4",
   "metadata": {},
   "outputs": [],
   "source": [
    "# we can access different attributes of object created above (e.g. seasonal, trend and resid)\n",
    "result.seasonal"
   ]
  },
  {
   "cell_type": "code",
   "execution_count": null,
   "id": "ec0404b5",
   "metadata": {},
   "outputs": [],
   "source": [
    "# Make a dataframe:\n",
    "\n",
    "decomposition = pd.DataFrame({\n",
    "    'y': result.observed,\n",
    "    'trend': result.trend,\n",
    "    'seasonal': result.seasonal,\n",
    "    'resid': result.resid,\n",
    "})\n",
    "decomposition.head()"
   ]
  },
  {
   "cell_type": "code",
   "execution_count": null,
   "id": "76fef487",
   "metadata": {},
   "outputs": [],
   "source": [
    "decomposition.iloc[:, 1:].plot()"
   ]
  },
  {
   "cell_type": "code",
   "execution_count": null,
   "id": "d273db24",
   "metadata": {},
   "outputs": [],
   "source": [
    "# the value returned from seasonal_decompose can itself be plotted:\n",
    "result.plot()\n",
    "None"
   ]
  },
  {
   "cell_type": "markdown",
   "id": "4837ee3e",
   "metadata": {},
   "source": [
    "### Additive or multiplicative seasonality?\n",
    "\n",
    "\n",
    "The additive model is most appropriate if the magnitude of the seasonal fluctuations or the variation around the trend-cycle does not vary with the level of the time series. When the variation in the seasonal pattern, or the variation around the trend-cycle, appears to be proportional to the level of the time series, then a multiplicative model is more appropriate. \n",
    "\n",
    "\n",
    "https://kourentzes.com/forecasting/2014/11/09/additive-and-multiplicative-seasonality/\n",
    "\n",
    "Effectively, with multiplicative seasonality the width of the seasonal pattern is proportional to the level. For additive seasonality it is independent.\n",
    "\n",
    "### Categories Over Time"
   ]
  },
  {
   "cell_type": "code",
   "execution_count": null,
   "id": "24885720",
   "metadata": {},
   "outputs": [],
   "source": [
    "train = train.resample('D').mean()\n",
    "train.head()"
   ]
  },
  {
   "cell_type": "code",
   "execution_count": null,
   "id": "b459483f",
   "metadata": {},
   "outputs": [],
   "source": [
    "# create a categorical feature\n",
    "train['temp_bin'] = pd.qcut(train.temp, 4, labels=['cold', 'cool', 'warm', 'hot'])\n",
    "train.groupby('temp_bin').temp.mean()"
   ]
  },
  {
   "cell_type": "code",
   "execution_count": null,
   "id": "83b50d71",
   "metadata": {},
   "outputs": [],
   "source": [
    "train.head()"
   ]
  },
  {
   "cell_type": "code",
   "execution_count": null,
   "id": "d4d8fe20",
   "metadata": {},
   "outputs": [],
   "source": [
    "ax = (train.groupby('temp_bin')\n",
    " .resample('M')\n",
    " .size()\n",
    " .unstack(0)\n",
    " .plot.bar(stacked=True, width=.9, ec='black')\n",
    ")\n",
    "# take the existing labels, convert them to Timestamps, and then reformat with .strftime\n",
    "labels = [pd.to_datetime(t.get_text()).strftime('%B') for t in ax.get_xticklabels()]\n",
    "ax.set_xticklabels(labels);"
   ]
  },
  {
   "cell_type": "markdown",
   "id": "f22fcf98",
   "metadata": {},
   "source": [
    "##### A recent example\n",
    "https://coronavirus.health.ny.gov/covid-19-variant-data"
   ]
  },
  {
   "cell_type": "code",
   "execution_count": null,
   "id": "96a843bf",
   "metadata": {},
   "outputs": [],
   "source": [
    "(train.groupby('temp_bin')\n",
    " .resample('M')\n",
    " .size()\n",
    " .unstack(0)\n",
    " .apply(lambda row: row / row.sum(), axis=1)\n",
    " .plot.area()\n",
    ")\n",
    "plt.ylabel('% of days in the month')"
   ]
  },
  {
   "cell_type": "code",
   "execution_count": null,
   "id": "f5e05ccb",
   "metadata": {},
   "outputs": [],
   "source": [
    "ax = (train['2015']\n",
    " .groupby('temp_bin')\n",
    " .resample('M')\n",
    " .size()\n",
    " .unstack(0)\n",
    " .plot.bar(stacked=True, width=.9, ec='black')\n",
    ")\n",
    "labels = [pd.to_datetime(t.get_text()).strftime('%B') for t in ax.get_xticklabels()]\n",
    "ax.set_xticklabels(labels)"
   ]
  },
  {
   "cell_type": "markdown",
   "id": "afea313e",
   "metadata": {},
   "source": [
    "### strftime\n",
    "\n",
    "A common problem we can run into when visualizing time series data is that the order of the months or days of the week logically is not the same as the order alphabetically. One workaround for this is to format the dates such that the have a number prepended to them (for example, 0-sunday, 1-monday) and the plot. Once the plot is created, we can manipulate the tick labels and remove the prefix."
   ]
  },
  {
   "cell_type": "code",
   "execution_count": null,
   "id": "4de617dc",
   "metadata": {},
   "outputs": [],
   "source": [
    "ax = y.groupby(y.index.strftime('%m-%b')).mean().plot.bar()\n",
    "ax.set_xticklabels([t.get_text()[3:] for t in ax.get_xticklabels()], rotation=0);"
   ]
  },
  {
   "cell_type": "markdown",
   "id": "806f3eb8",
   "metadata": {},
   "source": [
    "### Matplotlib Dates\n",
    "\n",
    "This will only work with plt.plot or ax.plot, not with the pandas plotting!"
   ]
  },
  {
   "cell_type": "code",
   "execution_count": null,
   "id": "5ab01ec0",
   "metadata": {},
   "outputs": [],
   "source": [
    "# how can i customize the x axis label here?\n",
    "\n",
    "y.resample('W').mean().plot()\n",
    "plt.xticks();"
   ]
  },
  {
   "cell_type": "code",
   "execution_count": null,
   "id": "17846d7f",
   "metadata": {},
   "outputs": [],
   "source": [
    "from matplotlib.dates import DateFormatter\n",
    "\n",
    "fig, ax = plt.subplots()\n",
    "\n",
    "weekly = y.resample('W').mean()\n",
    "\n",
    "ax.plot(weekly.index, weekly)\n",
    "\n",
    "ax.xaxis.set_major_formatter(DateFormatter('%b %y'))"
   ]
  },
  {
   "cell_type": "markdown",
   "id": "65f33661",
   "metadata": {},
   "source": [
    "### Exercise\n",
    "Do your work for this exercise in a notebook named `explore.ipynb`. Use the techniques in the lesson to explore the **store item demand** dataset and the **opsd** dataset.\n",
    "\n",
    "For the store item demand data, you will need to choose a method of aggregating such that each observation is a unique date. For both datasets you should choose a method of splitting your data and only explore the training split.\n",
    "\n",
    "**Note: When resampling data, use a `mean()` aggregation method.**\n",
    "\n",
    "### Store Item Demand\n",
    "Load your store item demand data using your acquire and/or prepare functions.\n",
    "1. Using a human-based approach, split your dataset into train and test sets.\n",
    "2. Visualize your train-test split.\n",
    "\n",
    "Only use your train data set to perform the following tasks:\n",
    "\n",
    "3. Resample your data and visualize it.\n",
    "4. Creating a rolling (moving) average of your data and visualize it.\n",
    "5. Plot the difference in sales from one day to the next.\n",
    "6. Plot the % difference in sales from one day to the next.\n",
    "6. Plot the % difference in sales from one week to the next.\n",
    "7. Plot the % difference in sales from one month to the next.\n",
    "8. Visualize an autocorrelation plot on a weekly resampling.\n",
    "9. Visualize a seasonal decomposition plot on a weekly resampling.\n",
    "\n",
    "### OPS data\n",
    "Load your OPS data using your acquire and/or prepare functions.\n",
    "1. Split the data, so that train contains information up to and including 2013. The remaning data should be placed in test. \n",
    "\n",
    "Only use the train data set to perform the following tasks:\n",
    "\n",
    "2. Visualize your train-test split.\n",
    "3. Plot the consumption, wind, and solar data on the same chart.\n",
    "4. Plot only the consumption data from the year 2010. Are there any patterns you can identify? Note them in a markdown section.\n",
    "5. Resample the consumption data to monthly and plot it.\n",
    "6. Resample the consumption data to yearly and plot it.\n",
    "\n",
    "#### BONUS:\n",
    "7. Group the consumption data by month and create a boxplot treating the month component as a separate categorical feature.\n",
    "8. Group the consumption data by weekday and create a boxplot treating the weekday component as a separate categorical feature.\n",
    "9. Create a subseasonal plot by month of your consumption data. \n",
    "10. Create one or two visualizations that helps answer the follow questions: How does wind production/consumption vary within a year? How does wind production/consumption vary from year to year?\n",
    "11. Create one or two visualizations that helps answer the follow questions: How does solar production/consumption vary within a year? How does solar production/consumption vary from year to year?\n",
    "12. Plot a time series decomposition for your consumption data and note your takeaways.\n",
    "13. Create an autocorrelation plot of a weekly resampling of the consumption data."
   ]
  },
  {
   "cell_type": "code",
   "execution_count": null,
   "id": "b8dfaffd",
   "metadata": {},
   "outputs": [],
   "source": []
  }
 ],
 "metadata": {
  "kernelspec": {
   "display_name": "Python 3 (ipykernel)",
   "language": "python",
   "name": "python3"
  },
  "language_info": {
   "codemirror_mode": {
    "name": "ipython",
    "version": 3
   },
   "file_extension": ".py",
   "mimetype": "text/x-python",
   "name": "python",
   "nbconvert_exporter": "python",
   "pygments_lexer": "ipython3",
   "version": "3.9.7"
  }
 },
 "nbformat": 4,
 "nbformat_minor": 5
}
